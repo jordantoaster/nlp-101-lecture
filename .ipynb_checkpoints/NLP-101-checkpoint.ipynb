{
  "cells": [
    {
      "metadata": {
        "slideshow": {
          "slide_type": "slide"
        }
      },
      "cell_type": "markdown",
      "source": "# Dr NLP Love or: How I Learnt to Stop Worrying & Embrace AI"
    },
    {
      "metadata": {
        "slideshow": {
          "slide_type": "-"
        }
      },
      "cell_type": "markdown",
      "source": "<center><img src=\"../images/me-dr-nlp-love.png\" width=\"600\" height=\"600\"></center>"
    },
    {
      "metadata": {
        "slideshow": {
          "slide_type": "slide"
        }
      },
      "cell_type": "markdown",
      "source": "## Agenda! Aka Why You Should Stick Around :) "
    },
    {
      "metadata": {
        "slideshow": {
          "slide_type": "-"
        }
      },
      "cell_type": "markdown",
      "source": "- Easy to digest NLP; Something to learn for **beginner and intermediate** AI aficionado\n\n- 'Beyond the code' - **Whiteboard Explanation** of key NLP concepts\n\n- End to end **example of text classification** in action\n\n- How Kainos AI is **navigating the NLP landscape**"
    },
    {
      "metadata": {},
      "cell_type": "markdown",
      "source": "## Kainos NLP & NLP Intro..."
    },
    {
      "metadata": {},
      "cell_type": "markdown",
      "source": "Opportunity to have a thought leader view on the NLP landscape and How fits into Kainos strategic AI taregting of projects - Chance here to add something thought provoking to a discussion.\nIs there some powerful statistics on the historical volume of digital notes... automation need, case workers.\ndigital transformation impact, graveyard of poor overworked scanners."
    },
    {
      "metadata": {
        "slideshow": {
          "slide_type": "slide"
        }
      },
      "cell_type": "markdown",
      "source": "## By Example, Learn NLP just like your ABCs"
    },
    {
      "metadata": {
        "slideshow": {
          "slide_type": "fragment"
        }
      },
      "cell_type": "markdown",
      "source": "Introducing, the great NLP challenge of our age... **'who said it; Groot, Squanchy or Hodor?'**"
    },
    {
      "metadata": {
        "slideshow": {
          "slide_type": "-"
        }
      },
      "cell_type": "markdown",
      "source": "<center>\n    <div style=\"display:flex; text-align:center; min-width: 100%\">\n        <img src=\"../images/hodor.jpg\" width=\"150\" height=\"75\" style=\"display: block; margin: 0 auto;\">\n        <img src=\"../images/groot.jpg\" width=\"150\" height=\"75\" style=\"display: block; margin: 0 auto;\">\n        <img src=\"../images/squanchy.png\" width=\"150\" height=\"75\" style=\"display: block; margin: 0 auto;\">\n    </div>\n</center>"
    },
    {
      "metadata": {
        "slideshow": {
          "slide_type": "slide"
        }
      },
      "cell_type": "markdown",
      "source": "### The NLP Superhero Utility Belt"
    },
    {
      "metadata": {
        "slideshow": {
          "slide_type": "-"
        },
        "trusted": true
      },
      "cell_type": "code",
      "source": "import pandas as pd\nfrom sklearn.feature_extraction.text import CountVectorizer\nfrom sklearn.tree import DecisionTreeClassifier\nimport seaborn as sns\nfrom nltk.corpus import stopwords; nltk.download('stopwords'); from nltk.stem import PorterStemmer\nfrom wordcloud import WordCloud\nimport matplotlib.pyplot as plt\nimport graphviz\nfrom sklearn import tree",
      "execution_count": 96,
      "outputs": [
        {
          "output_type": "stream",
          "text": "[nltk_data] Downloading package stopwords to /home/nbuser/nltk_data...\n[nltk_data]   Package stopwords is already up-to-date!\n",
          "name": "stdout"
        }
      ]
    },
    {
      "metadata": {
        "slideshow": {
          "slide_type": "-"
        }
      },
      "cell_type": "markdown",
      "source": "The tools of the trade are better now than they ever have been! the above set encompass visulation, modelling, data manipulation and some of that sweet NLP secret sauce."
    },
    {
      "metadata": {
        "slideshow": {
          "slide_type": "slide"
        }
      },
      "cell_type": "markdown",
      "source": "### Fundamentals First; NLP (some would argue life!) is driven by data"
    },
    {
      "metadata": {
        "slideshow": {
          "slide_type": "notes"
        }
      },
      "cell_type": "markdown",
      "source": "NOTE: This section can be extended with a typed component on tail...sample, some other basic instructions."
    },
    {
      "metadata": {
        "trusted": true
      },
      "cell_type": "code",
      "source": "df = pd.read_csv(\"../data/one-liner-bonanza.csv\")\ndf.head()",
      "execution_count": 60,
      "outputs": [
        {
          "output_type": "execute_result",
          "execution_count": 60,
          "data": {
            "text/plain": "                         dialogue character\n0                           Hodor     Hodor\n1  Come get a piece of my squanch  Squanchy\n2                           hodor     Hodor\n3                      I am Groot     Groot\n4                    We are Groot     Groot",
            "text/html": "<div>\n<style scoped>\n    .dataframe tbody tr th:only-of-type {\n        vertical-align: middle;\n    }\n\n    .dataframe tbody tr th {\n        vertical-align: top;\n    }\n\n    .dataframe thead th {\n        text-align: right;\n    }\n</style>\n<table border=\"1\" class=\"dataframe\">\n  <thead>\n    <tr style=\"text-align: right;\">\n      <th></th>\n      <th>dialogue</th>\n      <th>character</th>\n    </tr>\n  </thead>\n  <tbody>\n    <tr>\n      <th>0</th>\n      <td>Hodor</td>\n      <td>Hodor</td>\n    </tr>\n    <tr>\n      <th>1</th>\n      <td>Come get a piece of my squanch</td>\n      <td>Squanchy</td>\n    </tr>\n    <tr>\n      <th>2</th>\n      <td>hodor</td>\n      <td>Hodor</td>\n    </tr>\n    <tr>\n      <th>3</th>\n      <td>I am Groot</td>\n      <td>Groot</td>\n    </tr>\n    <tr>\n      <th>4</th>\n      <td>We are Groot</td>\n      <td>Groot</td>\n    </tr>\n  </tbody>\n</table>\n</div>"
          },
          "metadata": {}
        }
      ]
    },
    {
      "metadata": {
        "slideshow": {
          "slide_type": "slide"
        }
      },
      "cell_type": "markdown",
      "source": "### Text Processing!\n\nNOTE: lower case, stop words"
    },
    {
      "metadata": {
        "slideshow": {
          "slide_type": "-"
        },
        "trusted": true
      },
      "cell_type": "code",
      "source": "# Get the stop words baby!\nstop = stopwords.words('english')\n\n# Lets stem the words down to their roots! need a point on controlling variance and feature limiting being useful\n# need to talk about lemma as well.\nporter = PorterStemmer()\n\n# remove stops, do same sweet stemming\ndf['dialogue_proprocessed'] = df['dialogue'].apply(lambda x: \n                                                    ' '.join([porter.stem(w) for w in x.split() if w not in stop]))\n\ndf.head(5)",
      "execution_count": 61,
      "outputs": [
        {
          "output_type": "execute_result",
          "execution_count": 61,
          "data": {
            "text/plain": "                         dialogue character  dialogue_proprocessed\n0                           Hodor     Hodor                  hodor\n1  Come get a piece of my squanch  Squanchy  come get piec squanch\n2                           hodor     Hodor                  hodor\n3                      I am Groot     Groot                I groot\n4                    We are Groot     Groot               We groot",
            "text/html": "<div>\n<style scoped>\n    .dataframe tbody tr th:only-of-type {\n        vertical-align: middle;\n    }\n\n    .dataframe tbody tr th {\n        vertical-align: top;\n    }\n\n    .dataframe thead th {\n        text-align: right;\n    }\n</style>\n<table border=\"1\" class=\"dataframe\">\n  <thead>\n    <tr style=\"text-align: right;\">\n      <th></th>\n      <th>dialogue</th>\n      <th>character</th>\n      <th>dialogue_proprocessed</th>\n    </tr>\n  </thead>\n  <tbody>\n    <tr>\n      <th>0</th>\n      <td>Hodor</td>\n      <td>Hodor</td>\n      <td>hodor</td>\n    </tr>\n    <tr>\n      <th>1</th>\n      <td>Come get a piece of my squanch</td>\n      <td>Squanchy</td>\n      <td>come get piec squanch</td>\n    </tr>\n    <tr>\n      <th>2</th>\n      <td>hodor</td>\n      <td>Hodor</td>\n      <td>hodor</td>\n    </tr>\n    <tr>\n      <th>3</th>\n      <td>I am Groot</td>\n      <td>Groot</td>\n      <td>I groot</td>\n    </tr>\n    <tr>\n      <th>4</th>\n      <td>We are Groot</td>\n      <td>Groot</td>\n      <td>We groot</td>\n    </tr>\n  </tbody>\n</table>\n</div>"
          },
          "metadata": {}
        }
      ]
    },
    {
      "metadata": {
        "slideshow": {
          "slide_type": "slide"
        }
      },
      "cell_type": "markdown",
      "source": "### Data Visualisation; Aka the stuff that looks good in slides ;)\n\nJoking aside, visualisation and analysis of data ALWAYS drastically shapes a solution!"
    },
    {
      "metadata": {
        "slideshow": {
          "slide_type": "fragment"
        },
        "trusted": true
      },
      "cell_type": "code",
      "source": "# Everyone loves a word cloud right? ... \ndata = df['dialogue_proprocessed']\n# data = df[df['character'] == 'Groot']['dialogue_proprocessed']\nwordcloud = WordCloud(background_color='white').generate(' '.join(data))\nplt.imshow(wordcloud, interpolation='bilinear')\nplt.axis('off')\n",
      "execution_count": 62,
      "outputs": [
        {
          "output_type": "execute_result",
          "execution_count": 62,
          "data": {
            "text/plain": "(-0.5, 399.5, 199.5, -0.5)"
          },
          "metadata": {}
        },
        {
          "output_type": "display_data",
          "data": {
            "image/png": "[encoded data removed]",
            "text/plain": "<Figure size 432x288 with 1 Axes>"
          },
          "metadata": {
            "needs_background": "light"
          }
        }
      ]
    },
    {
      "metadata": {
        "slideshow": {
          "slide_type": "subslide"
        },
        "trusted": true
      },
      "cell_type": "code",
      "source": "# Need a note to talk about value of this at scale, understand variation in features across classes etc.\n\n# Word Counts Could be Useful...\ndf['word_counts'] = df['dialogue_proprocessed'].apply(lambda x: len(x.split()))\n\n# get our counts!\ny_1 = df[df['character'] == 'Groot']['word_counts']\ny_2 = df[df['character'] == 'Hodor']['word_counts']\ny_3 = df[df['character'] == 'Squanchy']['word_counts']\n\n# Get our X ticks...\nx_1 = 'Groot'\nx_2 = 'Hodor'\nx_3 = 'Squanchy'\n\n# Plot'em\nplt.bar(x_1, y_1)\nplt.bar(x_2, y_2)\nplt.bar(x_3, y_3)",
      "execution_count": 73,
      "outputs": [
        {
          "output_type": "stream",
          "text": "3.0\n",
          "name": "stdout"
        },
        {
          "output_type": "execute_result",
          "execution_count": 73,
          "data": {
            "text/plain": "<BarContainer object of 3 artists>"
          },
          "metadata": {}
        },
        {
          "output_type": "display_data",
          "data": {
            "image/png": "[encoded data removed]",
            "text/plain": "<Figure size 432x288 with 1 Axes>"
          },
          "metadata": {
            "needs_background": "light"
          }
        }
      ]
    },
    {
      "metadata": {
        "slideshow": {
          "slide_type": "slide"
        }
      },
      "cell_type": "markdown",
      "source": "### Text Vectorisation\n##### Have no fear... its easier than it sounds\n\nNote: dictionary definition is the operation of applying an unified operation to data, equate to loops being ineffecient, but refer "
    },
    {
      "metadata": {
        "slideshow": {
          "slide_type": "-"
        },
        "trusted": true
      },
      "cell_type": "code",
      "source": "# Vectorisation Code\n# note on how it converts case for us, show with and without case lowering by default in terms of shape.\n\ncount_vect = CountVectorizer()\nfeature_vect = count_vect.fit_transform(df['dialogue_proprocessed'])\n\nprint(feature_vect.shape)",
      "execution_count": 82,
      "outputs": [
        {
          "output_type": "stream",
          "text": "(10, 13)\n[u'am', u'come', u'door', u'famili', u'get', u'groot', u'hodor', u'hold', u'parti', u'piec', u'rick', u'squanch', u'we']\n",
          "name": "stdout"
        }
      ]
    },
    {
      "metadata": {
        "slideshow": {
          "slide_type": "subslide"
        }
      },
      "cell_type": "markdown",
      "source": "##### To the Whiteboard!"
    },
    {
      "metadata": {
        "slideshow": {
          "slide_type": "-"
        }
      },
      "cell_type": "markdown",
      "source": "<center>\n    <img src=\"../images/pepe.jpg\" width=\"500\" height=\"400\">\n</center>"
    },
    {
      "metadata": {
        "trusted": true
      },
      "cell_type": "code",
      "source": "# Whiteboard play pen!",
      "execution_count": null,
      "outputs": []
    },
    {
      "metadata": {
        "slideshow": {
          "slide_type": "notes"
        }
      },
      "cell_type": "markdown",
      "source": "1. Sample for three rows from the data\n2. line each unique word into a volcabulary.\n3. encode each text piece as a symbol.\n4. one hot encode the text.\n5. apply it as counts - bag of words\n6. tdf-idf \n\nhttps://www.kdnuggets.com/2018/08/wtf-tf-idf.html\nhttp://datameetsmedia.com/bag-of-words-tf-idf-explained/\n'Consider a document containing 100 words wherein the word cat appears 3 times. The term frequency (i.e., tf) for cat is then (3 / 100) = 0.03. Now, assume we have 10 million documents and the word cat appears in one thousand of these. Then, the inverse document frequency (i.e., idf) is calculated as log(10,000,000 / 1,000) = 4. Thus, the Tf-idf weight is the product of these quantities: 0.03 * 4 = 0.12.'"
    },
    {
      "metadata": {
        "slideshow": {
          "slide_type": "slide"
        }
      },
      "cell_type": "markdown",
      "source": "### Modelling the Data\n##### Paint me like one of your french girls"
    },
    {
      "metadata": {
        "slideshow": {
          "slide_type": "-"
        }
      },
      "cell_type": "markdown",
      "source": "<center>\n    <img src=\"../images/derek.jpg\" width=\"500\" height=\"400\">\n</center>"
    },
    {
      "metadata": {
        "slideshow": {
          "slide_type": "slide"
        },
        "trusted": true
      },
      "cell_type": "code",
      "source": "clf = DecisionTreeClassifier(random_state=0)\nclf.fit(feature_vect, df['character'])\n\nprediction_data = ['Squanch me like you never have before!', 'I am Groot', 'Hodor hodor']\n\nclf.predict(count_vect.transform(prediction_data))",
      "execution_count": 90,
      "outputs": [
        {
          "output_type": "execute_result",
          "execution_count": 90,
          "data": {
            "text/plain": "array(['Squanchy', 'Groot', 'Hodor'], dtype=object)"
          },
          "metadata": {}
        }
      ]
    },
    {
      "metadata": {
        "slideshow": {
          "slide_type": "slide"
        }
      },
      "cell_type": "markdown",
      "source": "### Whiteboard Wonder... Decesion Trees Are a Breeze"
    },
    {
      "metadata": {},
      "cell_type": "markdown",
      "source": "<center>\n    <img src=\"../images/boulder.jpg\" height=\"400\">\n</center>"
    },
    {
      "metadata": {},
      "cell_type": "markdown",
      "source": "https://en.wikipedia.org/wiki/Sisyphus"
    },
    {
      "metadata": {
        "trusted": true
      },
      "cell_type": "code",
      "source": "",
      "execution_count": null,
      "outputs": []
    },
    {
      "metadata": {
        "slideshow": {
          "slide_type": "notes"
        }
      },
      "cell_type": "markdown",
      "source": "| Weather | Wind | Play |\n| --- | --- | --- |\n| Sun | Weak | Y |\n| Rain | Strong | n |\n| Sun | Weak | Y |\n| Sun | Weak | Y |\n| Rain | Weak | N |\n\nNew_Data = Rain, Strong = ?\n\n------\n\n                    \n                    -> weak (1) -> yes (1)\n       -> rain (2)\n                    -> strong(1) -> no (1)\n       \nWeather \n\n       -> sun (3)\n       \n       \n       \n--------\nSplitting\n\n\n| Weather | Play |\n| --- | --- |\n| Sun | Y |\n| Rain | n |\n| Sun | Y |\n\n\nP(W=Sun + Play=Y) = .66\nP(W=Sun + play=N) = .33\n\n-------\n\nG = 1 - (0.33^2 + 0.66^) = 0.47\n\n\n      0.1       0.43\n      \n      \n------\n\nRepeat for every attritute variation (rain...other columns) until best split found - then repeat for each node on a differing subset."
    },
    {
      "metadata": {},
      "cell_type": "markdown",
      "source": "### Prepare Yourself! For a Tree of Utmost Complexity & Charm..."
    },
    {
      "metadata": {
        "slideshow": {
          "slide_type": "slide"
        },
        "trusted": true
      },
      "cell_type": "code",
      "source": "with open(\"../images/tree.dot\", \"w\") as f:\n    f = tree.export_graphviz(clf, out_file=f)",
      "execution_count": 107,
      "outputs": []
    },
    {
      "metadata": {
        "slideshow": {
          "slide_type": "-"
        }
      },
      "cell_type": "markdown",
      "source": "<center>\n    <img src=\"../images/tree.png\" width=\"400\" height=\"400\">\n</center>"
    },
    {
      "metadata": {
        "slideshow": {
          "slide_type": "-"
        },
        "trusted": true
      },
      "cell_type": "code",
      "source": "print(count_vect.get_feature_names())",
      "execution_count": 109,
      "outputs": [
        {
          "output_type": "stream",
          "text": "[u'am', u'come', u'door', u'famili', u'get', u'groot', u'hodor', u'hold', u'parti', u'piec', u'rick', u'squanch', u'we']\n",
          "name": "stdout"
        }
      ]
    },
    {
      "metadata": {
        "slideshow": {
          "slide_type": "-"
        },
        "trusted": true
      },
      "cell_type": "code",
      "source": "# End on some note about the same principles applyy for more complex data.",
      "execution_count": null,
      "outputs": []
    },
    {
      "metadata": {
        "slideshow": {
          "slide_type": "slide"
        }
      },
      "cell_type": "markdown",
      "source": "### Compelling / thougt provoking ending\n\nAI does not exist in a vacuum, silver bullets are like searching for gold at the end of rainbow."
    }
  ],
  "metadata": {
    "kernelspec": {
      "name": "python2",
      "display_name": "Python 2",
      "language": "python"
    },
    "celltoolbar": "Slideshow",
    "language_info": {
      "mimetype": "text/x-python",
      "nbconvert_exporter": "python",
      "name": "python",
      "pygments_lexer": "ipython2",
      "version": "2.7.15",
      "file_extension": ".py",
      "codemirror_mode": {
        "version": 2,
        "name": "ipython"
      }
    }
  },
  "nbformat": 4,
  "nbformat_minor": 2
}